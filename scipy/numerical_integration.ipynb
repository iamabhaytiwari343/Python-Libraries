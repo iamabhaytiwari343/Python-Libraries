{
 "cells": [
  {
   "cell_type": "code",
   "execution_count": 1,
   "metadata": {},
   "outputs": [
    {
     "name": "stdout",
     "output_type": "stream",
     "text": [
      "Result of integration: 0.33333333333333337\n",
      "Estimate of the absolute error: 3.700743415417189e-15\n"
     ]
    }
   ],
   "source": [
    "from scipy import integrate\n",
    "\n",
    "# Define the function to be integrated\n",
    "def f(x):\n",
    "    return x**2\n",
    "\n",
    "# Use the quad function to calculate the integral\n",
    "result, error = integrate.quad(f, 0, 1)\n",
    "\n",
    "print(\"Result of integration:\", result)\n",
    "print(\"Estimate of the absolute error:\", error)\n"
   ]
  },
  {
   "cell_type": "code",
   "execution_count": null,
   "metadata": {},
   "outputs": [],
   "source": []
  }
 ],
 "metadata": {
  "kernelspec": {
   "display_name": "Python 3",
   "language": "python",
   "name": "python3"
  },
  "language_info": {
   "codemirror_mode": {
    "name": "ipython",
    "version": 3
   },
   "file_extension": ".py",
   "mimetype": "text/x-python",
   "name": "python",
   "nbconvert_exporter": "python",
   "pygments_lexer": "ipython3",
   "version": "3.11.2"
  }
 },
 "nbformat": 4,
 "nbformat_minor": 2
}
