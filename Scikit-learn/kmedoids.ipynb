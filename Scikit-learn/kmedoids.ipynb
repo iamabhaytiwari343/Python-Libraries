{
 "cells": [
  {
   "cell_type": "code",
   "execution_count": null,
   "metadata": {},
   "outputs": [],
   "source": [
    "from sklearn.datasets import make_blobs\n",
    "from sklearn_extra.cluster import KMedoids\n",
    "import matplotlib.pyplot as plt\n",
    "\n",
    "# Generating synthetic data\n",
    "X, _ = make_blobs(n_samples=300, centers=4, cluster_std=0.6, random_state=0)\n",
    "\n",
    "# Creating a KMedoids instance with 4 clusters\n",
    "kmedoids = KMedoids(n_clusters=4, random_state=0)\n",
    "\n",
    "# Fitting the model to the data\n",
    "kmedoids.fit(X)\n",
    "\n",
    "# Getting cluster labels and cluster medoids\n",
    "labels = kmedoids.labels_\n",
    "medoids = kmedoids.cluster_centers_\n",
    "\n",
    "# Visualizing the clustered data\n",
    "plt.scatter(X[:, 0], X[:, 1], c=labels, cmap='viridis',\n",
    "            s=50, alpha=0.7, edgecolors='k')\n",
    "plt.scatter(medoids[:, 0], medoids[:, 1], c='red',\n",
    "            s=200, marker='X', label='Medoids')\n",
    "plt.legend()\n",
    "plt.title('KMedoids Clustering')\n",
    "plt.show()"
   ]
  }
 ],
 "metadata": {
  "language_info": {
   "name": "python"
  }
 },
 "nbformat": 4,
 "nbformat_minor": 2
}
