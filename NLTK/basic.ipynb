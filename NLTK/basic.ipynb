{
 "cells": [
  {
   "cell_type": "code",
   "execution_count": 10,
   "metadata": {},
   "outputs": [
    {
     "name": "stderr",
     "output_type": "stream",
     "text": [
      "[nltk_data] Downloading package punkt to\n",
      "[nltk_data]     C:\\Users\\Dell\\AppData\\Roaming\\nltk_data...\n",
      "[nltk_data]   Unzipping tokenizers\\punkt.zip.\n"
     ]
    },
    {
     "data": {
      "text/plain": [
       "True"
      ]
     },
     "execution_count": 10,
     "metadata": {},
     "output_type": "execute_result"
    }
   ],
   "source": [
    "import nltk \n",
    "nltk.download('punkt')\n"
   ]
  },
  {
   "cell_type": "code",
   "execution_count": 7,
   "metadata": {},
   "outputs": [],
   "source": [
    "from nltk.tokenize import sent_tokenize, word_tokenize"
   ]
  },
  {
   "cell_type": "code",
   "execution_count": 8,
   "metadata": {},
   "outputs": [],
   "source": [
    "str= \"\"\"The NLTK (Natural Language Toolkit) is a popular Python library used for working with human language data, also known as natural language processing (NLP). \n",
    "It provides various tools and resources for tasks such as tokenization, stemming, tagging, parsing, and more.\n",
    "NLTK is widely used by researchers, developers, and practitioners in the field of NLP for tasks ranging from text analysis to machine learning.\"\"\""
   ]
  },
  {
   "cell_type": "code",
   "execution_count": 12,
   "metadata": {},
   "outputs": [],
   "source": [
    "a=word_tokenize(str)\n",
    "b=sent_tokenize(str)"
   ]
  },
  {
   "cell_type": "code",
   "execution_count": 13,
   "metadata": {},
   "outputs": [
    {
     "data": {
      "text/plain": [
       "['The',\n",
       " 'NLTK',\n",
       " '(',\n",
       " 'Natural',\n",
       " 'Language',\n",
       " 'Toolkit',\n",
       " ')',\n",
       " 'is',\n",
       " 'a',\n",
       " 'popular',\n",
       " 'Python',\n",
       " 'library',\n",
       " 'used',\n",
       " 'for',\n",
       " 'working',\n",
       " 'with',\n",
       " 'human',\n",
       " 'language',\n",
       " 'data',\n",
       " ',',\n",
       " 'also',\n",
       " 'known',\n",
       " 'as',\n",
       " 'natural',\n",
       " 'language',\n",
       " 'processing',\n",
       " '(',\n",
       " 'NLP',\n",
       " ')',\n",
       " '.',\n",
       " 'It',\n",
       " 'provides',\n",
       " 'various',\n",
       " 'tools',\n",
       " 'and',\n",
       " 'resources',\n",
       " 'for',\n",
       " 'tasks',\n",
       " 'such',\n",
       " 'as',\n",
       " 'tokenization',\n",
       " ',',\n",
       " 'stemming',\n",
       " ',',\n",
       " 'tagging',\n",
       " ',',\n",
       " 'parsing',\n",
       " ',',\n",
       " 'and',\n",
       " 'more',\n",
       " '.',\n",
       " 'NLTK',\n",
       " 'is',\n",
       " 'widely',\n",
       " 'used',\n",
       " 'by',\n",
       " 'researchers',\n",
       " ',',\n",
       " 'developers',\n",
       " ',',\n",
       " 'and',\n",
       " 'practitioners',\n",
       " 'in',\n",
       " 'the',\n",
       " 'field',\n",
       " 'of',\n",
       " 'NLP',\n",
       " 'for',\n",
       " 'tasks',\n",
       " 'ranging',\n",
       " 'from',\n",
       " 'text',\n",
       " 'analysis',\n",
       " 'to',\n",
       " 'machine',\n",
       " 'learning',\n",
       " '.']"
      ]
     },
     "execution_count": 13,
     "metadata": {},
     "output_type": "execute_result"
    }
   ],
   "source": [
    "a"
   ]
  },
  {
   "cell_type": "code",
   "execution_count": 14,
   "metadata": {},
   "outputs": [
    {
     "data": {
      "text/plain": [
       "['The NLTK (Natural Language Toolkit) is a popular Python library used for working with human language data, also known as natural language processing (NLP).',\n",
       " 'It provides various tools and resources for tasks such as tokenization, stemming, tagging, parsing, and more.',\n",
       " 'NLTK is widely used by researchers, developers, and practitioners in the field of NLP for tasks ranging from text analysis to machine learning.']"
      ]
     },
     "execution_count": 14,
     "metadata": {},
     "output_type": "execute_result"
    }
   ],
   "source": [
    "b"
   ]
  }
 ],
 "metadata": {
  "kernelspec": {
   "display_name": "Python 3",
   "language": "python",
   "name": "python3"
  },
  "language_info": {
   "codemirror_mode": {
    "name": "ipython",
    "version": 3
   },
   "file_extension": ".py",
   "mimetype": "text/x-python",
   "name": "python",
   "nbconvert_exporter": "python",
   "pygments_lexer": "ipython3",
   "version": "3.11.2"
  },
  "orig_nbformat": 4
 },
 "nbformat": 4,
 "nbformat_minor": 2
}
